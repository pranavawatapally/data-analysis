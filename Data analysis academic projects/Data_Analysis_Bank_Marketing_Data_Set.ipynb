{
 "cells": [
  {
   "cell_type": "markdown",
   "metadata": {
    "colab_type": "text",
    "id": "_th7e2nu0At7"
   },
   "source": [
    "# SIT742: Modern Data Science \n",
    "**(Assessment Task 02: Bank Marketing Data Analytics)**\n",
    "\n",
    "---\n",
    "- Materials in this module include resources collected from various open-source online repositories.\n",
    "- You are free to use, change and distribute this package.\n",
    "\n",
    "Prepared by **SIT742 Teaching Team**\n",
    "GROUP-43\n",
    "---\n",
    "\n",
    "**Project Group Information:**\n",
    "\n",
    "- Names: AWATAPALLY PRANAV\n",
    "- Student IDs: 218517695\n",
    "- Emails: vawatapally@deakin.edu.au \n",
    "\n",
    "---"
   ]
  },
  {
   "cell_type": "markdown",
   "metadata": {
    "colab_type": "text",
    "id": "eASNvREtBU9G"
   },
   "source": [
    "# 1.Import Spark"
   ]
  },
  {
   "cell_type": "code",
   "execution_count": 113,
   "metadata": {
    "cellView": "code",
    "colab": {
     "base_uri": "https://localhost:8080/",
     "height": 34
    },
    "colab_type": "code",
    "id": "duCJfMrnGu00",
    "outputId": "5c04e4b8-b83c-4514-de33-cf37871845de"
   },
   "outputs": [
    {
     "name": "stdout",
     "output_type": "stream",
     "text": [
      "Requirement already satisfied: wget in /usr/local/lib/python3.6/dist-packages (3.2)\n"
     ]
    }
   ],
   "source": [
    "!pip install wget\n",
    "!apt-get install openjdk-8-jdk-headless -qq > /dev/null\n",
    "!wget -q https://archive.apache.org/dist/spark/spark-2.4.0/spark-2.4.0-bin-hadoop2.7.tgz\n",
    "!tar xf spark-2.4.0-bin-hadoop2.7.tgz\n",
    "!pip install -q findspark\n",
    "import os\n",
    "os.environ[\"JAVA_HOME\"] = \"/usr/lib/jvm/java-8-openjdk-amd64\"\n",
    "os.environ[\"SPARK_HOME\"] = \"/content/spark-2.4.0-bin-hadoop2.7\""
   ]
  },
  {
   "cell_type": "code",
   "execution_count": 0,
   "metadata": {
    "colab": {},
    "colab_type": "code",
    "id": "aGOo805LA-fM"
   },
   "outputs": [],
   "source": [
    "# import find spark\n",
    "import findspark\n",
    "#initalizing findspark\n",
    "findspark.init()\n",
    "#importing sparksession from pyspark.sql\n",
    "from pyspark.sql import SparkSession "
   ]
  },
  {
   "cell_type": "markdown",
   "metadata": {
    "colab_type": "text",
    "id": "K7bEtO_fBZmE"
   },
   "source": [
    "# 2.Read and check data"
   ]
  },
  {
   "cell_type": "code",
   "execution_count": 0,
   "metadata": {
    "colab": {},
    "colab_type": "code",
    "id": "EADPspOv0Auh"
   },
   "outputs": [],
   "source": [
    "import wget\n",
    "#providing data url to download the data\n",
    "link_to_data = 'https://github.com/tulip-lab/sit742/raw/master/Assessment/2019/data/bank.csv'\n",
    "#Naming data as Dataset which is present in attribute \"link to data\"\n",
    "DataSet = wget.download(link_to_data)"
   ]
  },
  {
   "cell_type": "code",
   "execution_count": 116,
   "metadata": {
    "colab": {
     "base_uri": "https://localhost:8080/",
     "height": 118
    },
    "colab_type": "code",
    "id": "tiM-PiiR0Aup",
    "outputId": "cc0dd151-136e-4d23-8835-2ccb18ecf744"
   },
   "outputs": [
    {
     "name": "stdout",
     "output_type": "stream",
     "text": [
      "'bank (1).csv'\t\t     spark-2.4.0-bin-hadoop2.7.tgz\n",
      "'bank (2).csv'\t\t     spark-2.4.0-bin-hadoop2.7.tgz.1\n",
      "'bank (3).csv'\t\t     spark-2.4.0-bin-hadoop2.7.tgz.2\n",
      " bank.csv\t\t     spark-2.4.0-bin-hadoop2.7.tgz.3\n",
      " sample_data\t\t     spark-warehouse\n",
      " spark-2.4.0-bin-hadoop2.7\n"
     ]
    }
   ],
   "source": [
    "!ls"
   ]
  },
  {
   "cell_type": "code",
   "execution_count": 117,
   "metadata": {
    "colab": {
     "base_uri": "https://localhost:8080/",
     "height": 521
    },
    "colab_type": "code",
    "id": "FQ8Ts9eZBA-M",
    "outputId": "a722babb-3eef-4ee2-8943-898387cab454"
   },
   "outputs": [
    {
     "name": "stdout",
     "output_type": "stream",
     "text": [
      "root\n",
      " |-- age: integer (nullable = true)\n",
      " |-- job: string (nullable = true)\n",
      " |-- marital: string (nullable = true)\n",
      " |-- education: string (nullable = true)\n",
      " |-- default: string (nullable = true)\n",
      " |-- balance: integer (nullable = true)\n",
      " |-- housing: string (nullable = true)\n",
      " |-- loan: string (nullable = true)\n",
      " |-- contact: string (nullable = true)\n",
      " |-- day: integer (nullable = true)\n",
      " |-- month: string (nullable = true)\n",
      " |-- duration: integer (nullable = true)\n",
      " |-- campaign: integer (nullable = true)\n",
      " |-- pdays: integer (nullable = true)\n",
      " |-- previous: integer (nullable = true)\n",
      " |-- poutcome: string (nullable = true)\n",
      " |-- deposit: string (nullable = true)\n",
      "\n",
      "+---+----------+-------+---------+-------+-------+-------+----+-------+---+-----+--------+--------+-----+--------+--------+-------+\n",
      "|age|       job|marital|education|default|balance|housing|loan|contact|day|month|duration|campaign|pdays|previous|poutcome|deposit|\n",
      "+---+----------+-------+---------+-------+-------+-------+----+-------+---+-----+--------+--------+-----+--------+--------+-------+\n",
      "| 59|    admin.|married|secondary|     no|   2343|    yes|  no|unknown|  5|  may|    1042|       1|   -1|       0| unknown|    yes|\n",
      "| 56|    admin.|married|secondary|     no|     45|     no|  no|unknown|  5|  may|    1467|       1|   -1|       0| unknown|    yes|\n",
      "| 41|technician|married|secondary|     no|   1270|    yes|  no|unknown|  5|  may|    1389|       1|   -1|       0| unknown|    yes|\n",
      "| 55|  services|married|secondary|     no|   2476|    yes|  no|unknown|  5|  may|     579|       1|   -1|       0| unknown|    yes|\n",
      "| 54|    admin.|married| tertiary|     no|    184|     no|  no|unknown|  5|  may|     673|       2|   -1|       0| unknown|    yes|\n",
      "+---+----------+-------+---------+-------+-------+-------+----+-------+---+-----+--------+--------+-----+--------+--------+-------+\n",
      "only showing top 5 rows\n",
      "\n"
     ]
    }
   ],
   "source": [
    "# Import the 'bank.csv' as a Spark dataframe and name it as df\n",
    "spark = SparkSession.builder.appName('ml-bank').getOrCreate()\n",
    "#assining the data to dataframe df\n",
    "df = spark.read.csv('bank.csv', header = True, inferSchema = True) \n",
    "#printing the dataframe\n",
    "df.printSchema() \n",
    "#top 5 rows in the dataframe\n",
    "df.show(5)"
   ]
  },
  {
   "cell_type": "code",
   "execution_count": 118,
   "metadata": {
    "colab": {
     "base_uri": "https://localhost:8080/",
     "height": 336
    },
    "colab_type": "code",
    "id": "XJGWVc0yB0UA",
    "outputId": "ebbf696a-45a9-4fc9-c8f1-c67dffd21c1d"
   },
   "outputs": [
    {
     "name": "stdout",
     "output_type": "stream",
     "text": [
      "root\n",
      " |-- age: integer (nullable = true)\n",
      " |-- job: string (nullable = true)\n",
      " |-- marital: string (nullable = true)\n",
      " |-- education: string (nullable = true)\n",
      " |-- default: string (nullable = true)\n",
      " |-- balance: integer (nullable = true)\n",
      " |-- housing: string (nullable = true)\n",
      " |-- loan: string (nullable = true)\n",
      " |-- contact: string (nullable = true)\n",
      " |-- day: integer (nullable = true)\n",
      " |-- month: string (nullable = true)\n",
      " |-- duration: integer (nullable = true)\n",
      " |-- campaign: integer (nullable = true)\n",
      " |-- pdays: integer (nullable = true)\n",
      " |-- previous: integer (nullable = true)\n",
      " |-- poutcome: string (nullable = true)\n",
      " |-- deposit: string (nullable = true)\n",
      "\n"
     ]
    }
   ],
   "source": [
    "# Check data distribution\n",
    "# You may use printSchema() \n",
    "df.printSchema()"
   ]
  },
  {
   "cell_type": "markdown",
   "metadata": {
    "colab_type": "text",
    "id": "wKQMhrtFChHa"
   },
   "source": [
    "# 3.Select features"
   ]
  },
  {
   "cell_type": "code",
   "execution_count": 119,
   "metadata": {
    "colab": {
     "base_uri": "https://localhost:8080/",
     "height": 706
    },
    "colab_type": "code",
    "id": "VU5xMqN_RyM2",
    "outputId": "d549390f-36fe-4cf9-8f1d-d8e217456b50"
   },
   "outputs": [
    {
     "name": "stdout",
     "output_type": "stream",
     "text": [
      "root\n",
      " |-- age: integer (nullable = true)\n",
      " |-- job: string (nullable = true)\n",
      " |-- marital: string (nullable = true)\n",
      " |-- education: string (nullable = true)\n",
      " |-- default: string (nullable = true)\n",
      " |-- balance: integer (nullable = true)\n",
      " |-- housing: string (nullable = true)\n",
      " |-- loan: string (nullable = true)\n",
      " |-- campaign: integer (nullable = true)\n",
      " |-- pdays: integer (nullable = true)\n",
      " |-- previous: integer (nullable = true)\n",
      " |-- poutcome: string (nullable = true)\n",
      " |-- deposit: string (nullable = true)\n",
      "\n",
      "+---+-----------+--------+---------+-------+-------+-------+----+--------+-----+--------+--------+-------+\n",
      "|age|        job| marital|education|default|balance|housing|loan|campaign|pdays|previous|poutcome|deposit|\n",
      "+---+-----------+--------+---------+-------+-------+-------+----+--------+-----+--------+--------+-------+\n",
      "| 59|     admin.| married|secondary|     no|   2343|    yes|  no|       1|   -1|       0| unknown|    yes|\n",
      "| 56|     admin.| married|secondary|     no|     45|     no|  no|       1|   -1|       0| unknown|    yes|\n",
      "| 41| technician| married|secondary|     no|   1270|    yes|  no|       1|   -1|       0| unknown|    yes|\n",
      "| 55|   services| married|secondary|     no|   2476|    yes|  no|       1|   -1|       0| unknown|    yes|\n",
      "| 54|     admin.| married| tertiary|     no|    184|     no|  no|       2|   -1|       0| unknown|    yes|\n",
      "| 42| management|  single| tertiary|     no|      0|    yes| yes|       2|   -1|       0| unknown|    yes|\n",
      "| 56| management| married| tertiary|     no|    830|    yes| yes|       1|   -1|       0| unknown|    yes|\n",
      "| 60|    retired|divorced|secondary|     no|    545|    yes|  no|       1|   -1|       0| unknown|    yes|\n",
      "| 37| technician| married|secondary|     no|      1|    yes|  no|       1|   -1|       0| unknown|    yes|\n",
      "| 28|   services|  single|secondary|     no|   5090|    yes|  no|       3|   -1|       0| unknown|    yes|\n",
      "| 38|     admin.|  single|secondary|     no|    100|    yes|  no|       1|   -1|       0| unknown|    yes|\n",
      "| 30|blue-collar| married|secondary|     no|    309|    yes|  no|       2|   -1|       0| unknown|    yes|\n",
      "| 29| management| married| tertiary|     no|    199|    yes| yes|       4|   -1|       0| unknown|    yes|\n",
      "| 46|blue-collar|  single| tertiary|     no|    460|    yes|  no|       2|   -1|       0| unknown|    yes|\n",
      "| 31| technician|  single| tertiary|     no|    703|    yes|  no|       2|   -1|       0| unknown|    yes|\n",
      "| 35| management|divorced| tertiary|     no|   3837|    yes|  no|       1|   -1|       0| unknown|    yes|\n",
      "| 32|blue-collar|  single|  primary|     no|    611|    yes|  no|       3|   -1|       0| unknown|    yes|\n",
      "| 49|   services| married|secondary|     no|     -8|    yes|  no|       1|   -1|       0| unknown|    yes|\n",
      "| 41|     admin.| married|secondary|     no|     55|    yes|  no|       2|   -1|       0| unknown|    yes|\n",
      "| 49|     admin.|divorced|secondary|     no|    168|    yes| yes|       1|   -1|       0| unknown|    yes|\n",
      "+---+-----------+--------+---------+-------+-------+-------+----+--------+-----+--------+--------+-------+\n",
      "only showing top 20 rows\n",
      "\n"
     ]
    }
   ],
   "source": [
    "#Select features ('age', 'job', 'marital', 'education', 'default', 'balance', 'housing', 'loan', 'campaign', 'pdays', 'previous', 'poutcome', 'deposit') as df2\n",
    "df2 = df.select(\"age\",\"job\",\"marital\",\"education\",\"default\",\"balance\",\"housing\",\"loan\",\"campaign\",\"pdays\",\"previous\",\"poutcome\",\"deposit\")\n",
    "cols = df2.columns\n",
    "#to print the table\n",
    "df2.printSchema()\n",
    "#to describe the attributes\n",
    "df2.describe()\n",
    "#to show the rows\n",
    "df2.show()\n",
    "\n"
   ]
  },
  {
   "cell_type": "code",
   "execution_count": 120,
   "metadata": {
    "colab": {
     "base_uri": "https://localhost:8080/",
     "height": 454
    },
    "colab_type": "code",
    "id": "vwF5sqRYa_eI",
    "outputId": "3eccf2e1-2ad7-4f0c-f185-d70e6baf1db0"
   },
   "outputs": [
    {
     "name": "stdout",
     "output_type": "stream",
     "text": [
      "+---+------------+--------+---------+-------+-------+-------+----+--------+-----+--------+--------+-------+\n",
      "|age|         job| marital|education|default|balance|housing|loan|campaign|pdays|previous|poutcome|deposit|\n",
      "+---+------------+--------+---------+-------+-------+-------+----+--------+-----+--------+--------+-------+\n",
      "| 33|    services| married|secondary|     no|   3444|    yes|  no|       1|   91|       4| failure|    yes|\n",
      "| 56|  technician| married|secondary|     no|    589|    yes|  no|       1|  147|       2| success|    yes|\n",
      "| 34|      admin.| married| tertiary|     no|    899|    yes|  no|       1|  170|       3| failure|    yes|\n",
      "| 53|     retired| married| tertiary|     no|   2269|     no|  no|       2|  150|       1| success|    yes|\n",
      "| 37|  technician| married|secondary|     no|   5115|    yes|  no|       2|  171|       4| failure|    yes|\n",
      "| 45|entrepreneur| married|secondary|     no|    781|     no| yes|       2|  126|       2| failure|    yes|\n",
      "| 46|  unemployed|divorced|secondary|     no|   3354|    yes|  no|       1|  174|       1| success|    yes|\n",
      "| 40|  management| married| tertiary|     no|   3352|    yes|  no|       2|   27|       1| success|    yes|\n",
      "| 32|  technician| married| tertiary|     no|   4654|    yes| yes|       1|  128|       2| failure|    yes|\n",
      "| 30| blue-collar| married|secondary|     no|    501|    yes| yes|       1|  177|       1| failure|    yes|\n",
      "| 46|  technician| married| tertiary|     no|      0|     no|  no|       1|  167|       1| failure|    yes|\n",
      "| 38|entrepreneur| married| tertiary|     no|   1110|    yes|  no|       2|  183|       2| failure|    yes|\n",
      "| 32|    services| married|secondary|     no|    983|    yes|  no|       2|  133|       1| failure|    yes|\n",
      "| 31|  unemployed| married|secondary|     no|    314|    yes|  no|       3|  178|       7| failure|    yes|\n",
      "| 50| blue-collar| married|  primary|     no|  12519|    yes|  no|       3|   34|       1| failure|    yes|\n",
      "| 47|  technician| married|secondary|     no|      0|     no|  no|       1|   10|       1| failure|    yes|\n",
      "| 59|  management| married| tertiary|     no|   7049|     no|  no|       1|  163|       2| failure|    yes|\n",
      "| 31|  management| married|secondary|     no|   8629|    yes|  no|       1|  184|       2| failure|    yes|\n",
      "| 53| blue-collar| married|secondary|     no|   1777|    yes|  no|       5|  154|       1| failure|    yes|\n",
      "| 31|     unknown| married|secondary|     no|    111|     no|  no|       2|   93|       2| failure|    yes|\n",
      "+---+------------+--------+---------+-------+-------+-------+----+--------+-----+--------+--------+-------+\n",
      "only showing top 20 rows\n",
      "\n"
     ]
    }
   ],
   "source": [
    "#Remove invalid rows/records using spark.sql \n",
    "df2.registerTempTable(\"bank\")\n",
    "#importing the libraries\n",
    "from pyspark import SparkContext\n",
    "from pyspark.sql import SQLContext\n",
    "#creating an object\n",
    "sc = SparkContext.getOrCreate()\n",
    "#passing a object\n",
    "sqlContext = SQLContext(sc)\n",
    "# passing a SQL Query to remove the Duplicate data\n",
    "bankdata = sqlContext.sql(\"SELECT * FROM bank WHERE (poutcome not in ('unknown', 'other'))\")\n",
    "#displaying the dta\n",
    "bankdata.show()\n",
    "#deleting the data\n",
    "df2 = df2.na.drop()\n"
   ]
  },
  {
   "cell_type": "code",
   "execution_count": 121,
   "metadata": {
    "colab": {
     "base_uri": "https://localhost:8080/",
     "height": 794
    },
    "colab_type": "code",
    "id": "A_T8qvxzR-oI",
    "outputId": "95402544-1c1b-41c5-9fe1-3b3e27ee7401"
   },
   "outputs": [
    {
     "name": "stdout",
     "output_type": "stream",
     "text": [
      "root\n",
      " |-- label: double (nullable = false)\n",
      " |-- features: vector (nullable = true)\n",
      " |-- age: integer (nullable = true)\n",
      " |-- job: string (nullable = true)\n",
      " |-- marital: string (nullable = true)\n",
      " |-- education: string (nullable = true)\n",
      " |-- default: string (nullable = true)\n",
      " |-- balance: integer (nullable = true)\n",
      " |-- housing: string (nullable = true)\n",
      " |-- loan: string (nullable = true)\n",
      " |-- campaign: integer (nullable = true)\n",
      " |-- pdays: integer (nullable = true)\n",
      " |-- previous: integer (nullable = true)\n",
      " |-- poutcome: string (nullable = true)\n",
      " |-- deposit: string (nullable = true)\n",
      "\n"
     ]
    },
    {
     "data": {
      "text/html": [
       "<div>\n",
       "<style scoped>\n",
       "    .dataframe tbody tr th:only-of-type {\n",
       "        vertical-align: middle;\n",
       "    }\n",
       "\n",
       "    .dataframe tbody tr th {\n",
       "        vertical-align: top;\n",
       "    }\n",
       "\n",
       "    .dataframe thead th {\n",
       "        text-align: right;\n",
       "    }\n",
       "</style>\n",
       "<table border=\"1\" class=\"dataframe\">\n",
       "  <thead>\n",
       "    <tr style=\"text-align: right;\">\n",
       "      <th></th>\n",
       "      <th>0</th>\n",
       "      <th>1</th>\n",
       "      <th>2</th>\n",
       "      <th>3</th>\n",
       "      <th>4</th>\n",
       "    </tr>\n",
       "  </thead>\n",
       "  <tbody>\n",
       "    <tr>\n",
       "      <th>label</th>\n",
       "      <td>1</td>\n",
       "      <td>1</td>\n",
       "      <td>1</td>\n",
       "      <td>1</td>\n",
       "      <td>1</td>\n",
       "    </tr>\n",
       "    <tr>\n",
       "      <th>features</th>\n",
       "      <td>(0.0, 0.0, 0.0, 1.0, 0.0, 0.0, 0.0, 0.0, 0.0, ...</td>\n",
       "      <td>(0.0, 0.0, 0.0, 1.0, 0.0, 0.0, 0.0, 0.0, 0.0, ...</td>\n",
       "      <td>(0.0, 0.0, 1.0, 0.0, 0.0, 0.0, 0.0, 0.0, 0.0, ...</td>\n",
       "      <td>(0.0, 0.0, 0.0, 0.0, 1.0, 0.0, 0.0, 0.0, 0.0, ...</td>\n",
       "      <td>(0.0, 0.0, 0.0, 1.0, 0.0, 0.0, 0.0, 0.0, 0.0, ...</td>\n",
       "    </tr>\n",
       "    <tr>\n",
       "      <th>age</th>\n",
       "      <td>59</td>\n",
       "      <td>56</td>\n",
       "      <td>41</td>\n",
       "      <td>55</td>\n",
       "      <td>54</td>\n",
       "    </tr>\n",
       "    <tr>\n",
       "      <th>job</th>\n",
       "      <td>admin.</td>\n",
       "      <td>admin.</td>\n",
       "      <td>technician</td>\n",
       "      <td>services</td>\n",
       "      <td>admin.</td>\n",
       "    </tr>\n",
       "    <tr>\n",
       "      <th>marital</th>\n",
       "      <td>married</td>\n",
       "      <td>married</td>\n",
       "      <td>married</td>\n",
       "      <td>married</td>\n",
       "      <td>married</td>\n",
       "    </tr>\n",
       "    <tr>\n",
       "      <th>education</th>\n",
       "      <td>secondary</td>\n",
       "      <td>secondary</td>\n",
       "      <td>secondary</td>\n",
       "      <td>secondary</td>\n",
       "      <td>tertiary</td>\n",
       "    </tr>\n",
       "    <tr>\n",
       "      <th>default</th>\n",
       "      <td>no</td>\n",
       "      <td>no</td>\n",
       "      <td>no</td>\n",
       "      <td>no</td>\n",
       "      <td>no</td>\n",
       "    </tr>\n",
       "    <tr>\n",
       "      <th>balance</th>\n",
       "      <td>2343</td>\n",
       "      <td>45</td>\n",
       "      <td>1270</td>\n",
       "      <td>2476</td>\n",
       "      <td>184</td>\n",
       "    </tr>\n",
       "    <tr>\n",
       "      <th>housing</th>\n",
       "      <td>yes</td>\n",
       "      <td>no</td>\n",
       "      <td>yes</td>\n",
       "      <td>yes</td>\n",
       "      <td>no</td>\n",
       "    </tr>\n",
       "    <tr>\n",
       "      <th>loan</th>\n",
       "      <td>no</td>\n",
       "      <td>no</td>\n",
       "      <td>no</td>\n",
       "      <td>no</td>\n",
       "      <td>no</td>\n",
       "    </tr>\n",
       "    <tr>\n",
       "      <th>campaign</th>\n",
       "      <td>1</td>\n",
       "      <td>1</td>\n",
       "      <td>1</td>\n",
       "      <td>1</td>\n",
       "      <td>2</td>\n",
       "    </tr>\n",
       "    <tr>\n",
       "      <th>pdays</th>\n",
       "      <td>-1</td>\n",
       "      <td>-1</td>\n",
       "      <td>-1</td>\n",
       "      <td>-1</td>\n",
       "      <td>-1</td>\n",
       "    </tr>\n",
       "    <tr>\n",
       "      <th>previous</th>\n",
       "      <td>0</td>\n",
       "      <td>0</td>\n",
       "      <td>0</td>\n",
       "      <td>0</td>\n",
       "      <td>0</td>\n",
       "    </tr>\n",
       "    <tr>\n",
       "      <th>poutcome</th>\n",
       "      <td>unknown</td>\n",
       "      <td>unknown</td>\n",
       "      <td>unknown</td>\n",
       "      <td>unknown</td>\n",
       "      <td>unknown</td>\n",
       "    </tr>\n",
       "    <tr>\n",
       "      <th>deposit</th>\n",
       "      <td>yes</td>\n",
       "      <td>yes</td>\n",
       "      <td>yes</td>\n",
       "      <td>yes</td>\n",
       "      <td>yes</td>\n",
       "    </tr>\n",
       "  </tbody>\n",
       "</table>\n",
       "</div>"
      ],
      "text/plain": [
       "                                                           0  ...                                                  4\n",
       "label                                                      1  ...                                                  1\n",
       "features   (0.0, 0.0, 0.0, 1.0, 0.0, 0.0, 0.0, 0.0, 0.0, ...  ...  (0.0, 0.0, 0.0, 1.0, 0.0, 0.0, 0.0, 0.0, 0.0, ...\n",
       "age                                                       59  ...                                                 54\n",
       "job                                                   admin.  ...                                             admin.\n",
       "marital                                              married  ...                                            married\n",
       "education                                          secondary  ...                                           tertiary\n",
       "default                                                   no  ...                                                 no\n",
       "balance                                                 2343  ...                                                184\n",
       "housing                                                  yes  ...                                                 no\n",
       "loan                                                      no  ...                                                 no\n",
       "campaign                                                   1  ...                                                  2\n",
       "pdays                                                     -1  ...                                                 -1\n",
       "previous                                                   0  ...                                                  0\n",
       "poutcome                                             unknown  ...                                            unknown\n",
       "deposit                                                  yes  ...                                                yes\n",
       "\n",
       "[15 rows x 5 columns]"
      ]
     },
     "execution_count": 121,
     "metadata": {
      "tags": []
     },
     "output_type": "execute_result"
    }
   ],
   "source": [
    "#Covert categorical features to metric features using One hot encoding\n",
    "import pandas as pd\n",
    "#importing various function from pyspark.ml to perform various convertions\n",
    "from pyspark.ml.feature import OneHotEncoderEstimator, StringIndexer, VectorAssembler\n",
    "#selecting specific columns and assigning it to the variable categ_cols\n",
    "categoricalColumns = ['job', 'marital', 'education', 'default', 'housing', 'loan', 'poutcome']\n",
    "stages = []\n",
    "for categoricalCol in categoricalColumns:\n",
    "  #performing indexing on the attributes in categ_cols\n",
    "    stringIndexer = StringIndexer(inputCol = categoricalCol, outputCol = categoricalCol + 'Index')\n",
    "    #using onehotencodingestimator converting data\n",
    "    encoder = OneHotEncoderEstimator(inputCols=[stringIndexer.getOutputCol()], outputCols=[categoricalCol + \"classVec\"])\n",
    "    stages = stages + [stringIndexer, encoder]\n",
    "label_stringIdx = StringIndexer(inputCol = 'deposit', outputCol = 'label')\n",
    "stages += [label_stringIdx]\n",
    "numericCols = ['age', 'balance', 'campaign', 'pdays', 'previous']\n",
    "assemblerInputs = [c + \"classVec\" for c in categoricalColumns] + numericCols\n",
    "assembler = VectorAssembler(inputCols=assemblerInputs, outputCol=\"features\")\n",
    "stages += [assembler]\n",
    "#importing pipeline to perform data conversions\n",
    "from pyspark.ml import Pipeline\n",
    "pipeline = Pipeline(stages = stages)\n",
    "pipelineModel = pipeline.fit(df2)\n",
    "df2 = pipelineModel.transform(df2)\n",
    "selectedCols = ['label', 'features'] + cols\n",
    "df2 = df2.select(selectedCols)\n",
    "df2.printSchema()\n",
    "pd.DataFrame(df2.take(5), columns=df2.columns).transpose()"
   ]
  },
  {
   "cell_type": "markdown",
   "metadata": {
    "colab_type": "text",
    "id": "pOqHERYJCQuC"
   },
   "source": [
    "## 3.1 normalisation"
   ]
  },
  {
   "cell_type": "code",
   "execution_count": 122,
   "metadata": {
    "colab": {
     "base_uri": "https://localhost:8080/",
     "height": 470
    },
    "colab_type": "code",
    "id": "cfL6_sca5VwI",
    "outputId": "c5c2ccc1-d6f2-40f2-d430-419979cb708e"
   },
   "outputs": [
    {
     "name": "stdout",
     "output_type": "stream",
     "text": [
      "Features scaled to range: [0.000000, 1.000000]\n",
      "+--------------------+--------------------+\n",
      "|            features|      scaledFeatures|\n",
      "+--------------------+--------------------+\n",
      "|(27,[3,11,13,16,1...|[0.0,0.0,0.0,1.0,...|\n",
      "|(27,[3,11,13,16,1...|[0.0,0.0,0.0,1.0,...|\n",
      "|(27,[2,11,13,16,1...|[0.0,0.0,1.0,0.0,...|\n",
      "|(27,[4,11,13,16,1...|[0.0,0.0,0.0,0.0,...|\n",
      "|(27,[3,11,14,16,1...|[0.0,0.0,0.0,1.0,...|\n",
      "|(27,[0,12,14,16,1...|[1.0,0.0,0.0,0.0,...|\n",
      "|(27,[0,11,14,16,1...|[1.0,0.0,0.0,0.0,...|\n",
      "|(27,[5,13,16,18,1...|[0.0,0.0,0.0,0.0,...|\n",
      "|(27,[2,11,13,16,1...|[0.0,0.0,1.0,0.0,...|\n",
      "|(27,[4,12,13,16,1...|[0.0,0.0,0.0,0.0,...|\n",
      "|(27,[3,12,13,16,1...|[0.0,0.0,0.0,1.0,...|\n",
      "|(27,[1,11,13,16,1...|[0.0,1.0,0.0,0.0,...|\n",
      "|(27,[0,11,14,16,1...|[1.0,0.0,0.0,0.0,...|\n",
      "|(27,[1,12,14,16,1...|[0.0,1.0,0.0,0.0,...|\n",
      "|(27,[2,12,14,16,1...|[0.0,0.0,1.0,0.0,...|\n",
      "|(27,[0,14,16,18,1...|[1.0,0.0,0.0,0.0,...|\n",
      "|(27,[1,12,15,16,1...|[0.0,1.0,0.0,0.0,...|\n",
      "|(27,[4,11,13,16,1...|[0.0,0.0,0.0,0.0,...|\n",
      "|(27,[3,11,13,16,1...|[0.0,0.0,0.0,1.0,...|\n",
      "|(27,[3,13,16,19,2...|[0.0,0.0,0.0,1.0,...|\n",
      "+--------------------+--------------------+\n",
      "only showing top 20 rows\n",
      "\n"
     ]
    }
   ],
   "source": [
    "#Apply Min-Max normalisation on each attribute using MinMaxScaler  \n",
    "from pyspark.ml.feature import MinMaxScaler\n",
    "#importing minmax normalization scalar\n",
    "scaler = MinMaxScaler(inputCol=\"features\", outputCol=\"scaledFeatures\")\n",
    "scalerModel = scaler.fit(df2)\n",
    "scaledData = scalerModel.transform(df2)\n",
    "print(\"Features scaled to range: [%f, %f]\" % (scaler.getMin(), scaler.getMax()))\n",
    "scaledData.select(\"features\", \"scaledFeatures\").show()\n",
    "  \n"
   ]
  },
  {
   "cell_type": "code",
   "execution_count": 0,
   "metadata": {
    "colab": {},
    "colab_type": "code",
    "id": "_CBoIDYa6X0O"
   },
   "outputs": [],
   "source": [
    "from pyspark.ml.clustering import KMeans\n",
    "from pyspark.ml.evaluation import ClusteringEvaluator\n",
    "from pyspark.ml.evaluation import MulticlassClassificationEvaluator\n",
    "from pyspark.ml.evaluation import BinaryClassificationEvaluator\n",
    "#importing numpy package\n",
    "import numpy as np\n",
    "cost = np.zeros(20)\n",
    "# k is set as 2 as the centroid cluster are normally given as 2\n",
    "for k in range(2,20):\n",
    "    kmeans = KMeans().setK(k).setSeed(1).setFeaturesCol(\"features\")\n",
    "    model = kmeans.fit(df2.sample(False,0.1, seed=42))\n",
    "    cost[k] = model.computeCost(df2) "
   ]
  },
  {
   "cell_type": "code",
   "execution_count": 124,
   "metadata": {
    "colab": {
     "base_uri": "https://localhost:8080/",
     "height": 416
    },
    "colab_type": "code",
    "id": "jgI2T2Ei6X9H",
    "outputId": "f07251ed-9d88-4619-a470-6e189c229027"
   },
   "outputs": [
    {
     "data": {
      "text/plain": [
       "Text(0, 0.5, 'cost')"
      ]
     },
     "execution_count": 124,
     "metadata": {
      "tags": []
     },
     "output_type": "execute_result"
    },
    {
     "data": {
      "image/png": "[encoded data removed]",
      "text/plain": [
       "<Figure size 576x432 with 1 Axes>"
      ]
     },
     "metadata": {
      "tags": []
     },
     "output_type": "display_data"
    }
   ],
   "source": [
    "import matplotlib.pyplot as plt\n",
    "# data is plotted for better understanding\n",
    "fig, ax = plt.subplots(1,1, figsize =(8,6))\n",
    "ax.plot(range(2,20),cost[2:20])\n",
    "ax.set_xlabel('k')\n",
    "ax.set_ylabel('cost')"
   ]
  },
  {
   "cell_type": "markdown",
   "metadata": {
    "colab_type": "text",
    "id": "9trUY7ZgCzhW"
   },
   "source": [
    "# 4.Unsupervised learning"
   ]
  },
  {
   "cell_type": "markdown",
   "metadata": {
    "colab_type": "text",
    "id": "KTQfUch2Cmmi"
   },
   "source": [
    "## 4.1 K-means"
   ]
  },
  {
   "cell_type": "code",
   "execution_count": 0,
   "metadata": {
    "colab": {},
    "colab_type": "code",
    "id": "dGGZI70Ohqgg"
   },
   "outputs": [],
   "source": [
    "# Perform unsupervised learning on df2 with k-means \n",
    "# You can use whole df2 as both training and testing data, \n",
    "# Evaluate the clustering result using Accuracy.  \n",
    "# df2 is loaded for both the sets\n",
    "kmeans = KMeans().setK(2).setSeed(1)\n",
    "model = kmeans.fit(df2)"
   ]
  },
  {
   "cell_type": "code",
   "execution_count": 126,
   "metadata": {
    "colab": {
     "base_uri": "https://localhost:8080/",
     "height": 269
    },
    "colab_type": "code",
    "id": "7AdFc__H6-05",
    "outputId": "4d9e1dab-0a98-4508-d3a0-71fb6bd979f9"
   },
   "outputs": [
    {
     "name": "stdout",
     "output_type": "stream",
     "text": [
      "Cluster Centers: \n",
      "[2.26554465e-01 1.77185601e-01 1.62038336e-01 1.21365124e-01\n",
      " 8.44319776e-02 6.80691912e-02 3.60916316e-02 3.22580645e-02\n",
      " 3.18840580e-02 2.93595138e-02 2.46844320e-02 5.67367929e-01\n",
      " 3.15848527e-01 4.96306685e-01 3.25385694e-01 1.34081346e-01\n",
      " 9.84291725e-01 5.21084619e-01 8.65544647e-01 7.47732585e-01\n",
      " 1.10144928e-01 9.44366526e-02 4.10874240e+01 1.04602917e+03\n",
      " 2.50313230e+00 5.11942964e+01 8.29827022e-01]\n",
      "[3.06209850e-01 1.04925054e-01 1.92719486e-01 7.70877944e-02\n",
      " 4.28265525e-02 1.07066381e-01 4.06852248e-02 3.21199143e-02\n",
      " 3.42612420e-02 2.99785867e-02 2.14132762e-02 6.05995717e-01\n",
      " 2.99785867e-01 3.59743041e-01 4.47537473e-01 1.41327623e-01\n",
      " 1.00000000e+00 6.59528908e-01 9.52890792e-01 7.04496788e-01\n",
      " 1.07066381e-01 1.30620985e-01 4.45417559e+01 1.25787259e+04\n",
      " 2.62955032e+00 5.44475375e+01 8.95074946e-01]\n"
     ]
    }
   ],
   "source": [
    "predictions = model.transform(df2)\n",
    "#clustering is used to get the outputs for the clusters centriod centers\n",
    "evaluator = ClusteringEvaluator()\n",
    "centers = model.clusterCenters()\n",
    "print(\"Cluster Centers: \")\n",
    "for center in centers:\n",
    "    print(center)"
   ]
  },
  {
   "cell_type": "markdown",
   "metadata": {
    "colab_type": "text",
    "id": "FHom8o2KCt36"
   },
   "source": [
    "## 4.2 PCA"
   ]
  },
  {
   "cell_type": "code",
   "execution_count": 127,
   "metadata": {
    "colab": {
     "base_uri": "https://localhost:8080/",
     "height": 706
    },
    "colab_type": "code",
    "id": "wT4cx5uGTjmj",
    "outputId": "91f525da-adcb-4ff4-b8e4-ddf9805cabf7"
   },
   "outputs": [
    {
     "name": "stdout",
     "output_type": "stream",
     "text": [
      "+-------------------------------------------+\n",
      "|pcaFeatures                                |\n",
      "+-------------------------------------------+\n",
      "|[-2343.023259771129,-2.377951396858739]    |\n",
      "|[-45.02262340052814,-1.0272084689945573]   |\n",
      "|[-1270.0160760320578,-1.7488098781150336]  |\n",
      "|[-2476.0215663544914,-2.4566545740300025]  |\n",
      "|[-184.021767052275,-1.1117378034379481]    |\n",
      "|[-0.016820070173197466,-1.0042676876394945]|\n",
      "|[-830.0224297080015,-1.48872633668871]     |\n",
      "|[-545.0241468259201,-1.3205998084119144]   |\n",
      "|[-1.014746017388253,-1.0029496189956724]   |\n",
      "|[-5090.009659297503,-4.001157694137119]    |\n",
      "|[-100.01512481104773,-1.0606600724750708]  |\n",
      "|[-309.0117449559676,-1.1873174373385382]   |\n",
      "|[-199.0113587155574,-1.1278286617600615]   |\n",
      "|[-460.01835748225386,-1.2744751454902048]  |\n",
      "|[-703.0120783835595,-1.418684970161833]    |\n",
      "|[-3837.012943942598,-3.258694632283479]    |\n",
      "|[-611.0124892922124,-1.367283053437262]    |\n",
      "|[7.980278090410327,-0.9965064559983403]    |\n",
      "|[-55.01637520834916,-1.0367173744782725]   |\n",
      "|[-168.01966324272536,-1.0998714546663493]  |\n",
      "+-------------------------------------------+\n",
      "only showing top 20 rows\n",
      "\n"
     ]
    },
    {
     "data": {
      "image/png": "[encoded data removed]",
      "text/plain": [
       "<Figure size 432x288 with 1 Axes>"
      ]
     },
     "metadata": {
      "tags": []
     },
     "output_type": "display_data"
    }
   ],
   "source": [
    "#Generate a scatter plot using the first two PCA components to investigate the data distribution.\n",
    "\n",
    "from pyspark.ml.feature import PCA\n",
    "from pyspark.ml.linalg import Vectors\n",
    "\n",
    "pca = PCA(k=2, inputCol=\"features\", outputCol=\"pcaFeatures\")\n",
    "model = pca.fit(df2)\n",
    "\n",
    "result = model.transform(df2).select(\"pcaFeatures\")\n",
    "result.show(truncate=False)\n",
    "\n",
    "pd.DataFrame(result.take(5), columns=result.columns).transpose()\n",
    "\n",
    "features = result.select('pcaFeatures')\n",
    "\n",
    "features = features.toPandas()\n",
    "\n",
    "X = [] \n",
    "Y = []\n",
    "\n",
    "for pcaFeature in features.pcaFeatures:\n",
    "    X.append(pcaFeature[0])    \n",
    "    Y.append(pcaFeature[1])\n",
    "    \n",
    "plt.scatter(X, Y) \n",
    "plt.show()\n",
    "\n"
   ]
  },
  {
   "cell_type": "markdown",
   "metadata": {
    "colab_type": "text",
    "id": "ulp_uILXCv4Z"
   },
   "source": [
    "# 5.Supervised learning"
   ]
  },
  {
   "cell_type": "code",
   "execution_count": 128,
   "metadata": {
    "colab": {
     "base_uri": "https://localhost:8080/",
     "height": 50
    },
    "colab_type": "code",
    "id": "0O7tszcPfnHN",
    "outputId": "878d1b7c-95af-4b0e-cad9-9346c7e29dd7"
   },
   "outputs": [
    {
     "name": "stdout",
     "output_type": "stream",
     "text": [
      "Training Dataset Count: 7822\n",
      "Test Dataset Count: 3340\n"
     ]
    }
   ],
   "source": [
    "train, test = df2.randomSplit([0.7, 0.3], seed = 742)\n",
    "print(\"Training Dataset Count: \" + str(train.count()))\n",
    "print(\"Test Dataset Count: \" + str(test.count()))"
   ]
  },
  {
   "cell_type": "markdown",
   "metadata": {
    "colab_type": "text",
    "id": "2SsHdh7YC-eN"
   },
   "source": [
    "## 5.1 LogisticRegression"
   ]
  },
  {
   "cell_type": "code",
   "execution_count": 0,
   "metadata": {
    "colab": {},
    "colab_type": "code",
    "id": "Vqo_ywFQYxSj"
   },
   "outputs": [],
   "source": [
    "# Logistic Regression\n",
    "from pyspark.ml.classification import LogisticRegression\n",
    "from pyspark.ml.evaluation import MulticlassClassificationEvaluator\n",
    "from pyspark.ml.evaluation import BinaryClassificationEvaluator \n",
    "lr = LogisticRegression(featuresCol = 'features', labelCol = 'label', maxIter=10)\n",
    "lrModel = lr.fit(train)"
   ]
  },
  {
   "cell_type": "code",
   "execution_count": 130,
   "metadata": {
    "colab": {
     "base_uri": "https://localhost:8080/",
     "height": 269
    },
    "colab_type": "code",
    "id": "1xTFDhDG7kKr",
    "outputId": "86987628-35bd-4b86-c3ab-0a4e74132d4c"
   },
   "outputs": [
    {
     "data": {
      "image/png": "[encoded data removed]",
      "text/plain": [
       "<Figure size 432x288 with 1 Axes>"
      ]
     },
     "metadata": {
      "tags": []
     },
     "output_type": "display_data"
    }
   ],
   "source": [
    "import matplotlib.pyplot as plt\n",
    "import numpy as np\n",
    "#coefficients are generated \n",
    "\n",
    "beta = np.sort(lrModel.coefficients)\n",
    "\n",
    "plt.plot(beta)\n",
    "plt.ylabel('Beta Coefficients')\n",
    "plt.show()"
   ]
  },
  {
   "cell_type": "code",
   "execution_count": 131,
   "metadata": {
    "colab": {
     "base_uri": "https://localhost:8080/",
     "height": 329
    },
    "colab_type": "code",
    "id": "GFmcqJR87kXz",
    "outputId": "f285a73a-d5f8-46aa-de67-3bea411c033a"
   },
   "outputs": [
    {
     "data": {
      "image/png": "[encoded data removed]",
      "text/plain": [
       "<Figure size 432x288 with 1 Axes>"
      ]
     },
     "metadata": {
      "tags": []
     },
     "output_type": "display_data"
    },
    {
     "name": "stdout",
     "output_type": "stream",
     "text": [
      "Training set areaUnderROC: 0.7205533652244152\n"
     ]
    },
    {
     "data": {
      "text/plain": [
       "LogisticRegression_6fe1533a1aba"
      ]
     },
     "execution_count": 131,
     "metadata": {
      "tags": []
     },
     "output_type": "execute_result"
    }
   ],
   "source": [
    "#for beter prediction additional performance measures are also used\n",
    "trainingSummary = lrModel.summary\n",
    "\n",
    "# ROC is also used just for the predicition of performance scale\n",
    "roc = trainingSummary.roc.toPandas()\n",
    "plt.plot(roc['FPR'],roc['TPR'])\n",
    "plt.ylabel('False Positive Rate')\n",
    "plt.xlabel('True Positive Rate')\n",
    "plt.title('ROC Curve')\n",
    "plt.show()\n",
    "\n",
    "print('Training set areaUnderROC: ' + str(trainingSummary.areaUnderROC))\n",
    "# f-measure is used here for the performance scale\n",
    "fMeasure = trainingSummary.fMeasureByThreshold\n",
    "maxFMeasure = fMeasure.groupBy().max('F-Measure').select('max(F-Measure)').head()\n",
    "bestThreshold = fMeasure.where(fMeasure['F-Measure'] == maxFMeasure['max(F-Measure)']) \\\n",
    "    .select('threshold').head()['threshold']\n",
    "lr.setThreshold(bestThreshold)\n"
   ]
  },
  {
   "cell_type": "code",
   "execution_count": 132,
   "metadata": {
    "colab": {
     "base_uri": "https://localhost:8080/",
     "height": 283
    },
    "colab_type": "code",
    "id": "-NRAerua7kfz",
    "outputId": "aa5725d9-8afb-4ef7-c59e-60f6a120cb5a"
   },
   "outputs": [
    {
     "data": {
      "image/png": "[encoded data removed]",
      "text/plain": [
       "<Figure size 432x288 with 1 Axes>"
      ]
     },
     "metadata": {
      "tags": []
     },
     "output_type": "display_data"
    }
   ],
   "source": [
    "pr = trainingSummary.pr.toPandas()\n",
    "plt.plot(pr['recall'],pr['precision'])\n",
    "plt.ylabel('Precision')\n",
    "plt.xlabel('Recall')\n",
    "plt.show()"
   ]
  },
  {
   "cell_type": "code",
   "execution_count": 133,
   "metadata": {
    "colab": {
     "base_uri": "https://localhost:8080/",
     "height": 286
    },
    "colab_type": "code",
    "id": "pqU46ek37kpT",
    "outputId": "2c847e52-519c-4e02-cb41-75b435b5f093"
   },
   "outputs": [
    {
     "name": "stdout",
     "output_type": "stream",
     "text": [
      "+---+----------+-----+--------------------+----------+--------------------+\n",
      "|age|       job|label|       rawPrediction|prediction|         probability|\n",
      "+---+----------+-----+--------------------+----------+--------------------+\n",
      "| 31|management|  0.0|[0.22293466476661...|       0.0|[0.55550397803186...|\n",
      "| 35|management|  0.0|[1.28519700296627...|       0.0|[0.78333312266007...|\n",
      "| 40|management|  0.0|[0.63181697807069...|       0.0|[0.65290134222086...|\n",
      "| 50|management|  0.0|[0.12755611470830...|       0.0|[0.53184586120903...|\n",
      "| 52|management|  0.0|[0.61545851030502...|       0.0|[0.64918495428791...|\n",
      "| 52|management|  0.0|[0.32971071141793...|       0.0|[0.58168898680915...|\n",
      "| 56|management|  0.0|[0.51367135652849...|       0.0|[0.62566673099898...|\n",
      "| 57|management|  0.0|[0.32678618134526...|       0.0|[0.58097720040521...|\n",
      "| 58|management|  0.0|[1.18444132418935...|       0.0|[0.76574542578444...|\n",
      "| 46|management|  0.0|[0.72413818872764...|       0.0|[0.67351762271109...|\n",
      "+---+----------+-----+--------------------+----------+--------------------+\n",
      "only showing top 10 rows\n",
      "\n"
     ]
    }
   ],
   "source": [
    "predictions = lrModel.transform(test)\n",
    "predictions.select('age', 'job', 'label', 'rawPrediction', 'prediction', 'probability').show(10)\n"
   ]
  },
  {
   "cell_type": "code",
   "execution_count": 134,
   "metadata": {
    "colab": {
     "base_uri": "https://localhost:8080/",
     "height": 50
    },
    "colab_type": "code",
    "id": "-3AeAI-97k0M",
    "outputId": "dfaba613-63a1-4aa9-afcf-4b757e8466ff"
   },
   "outputs": [
    {
     "name": "stdout",
     "output_type": "stream",
     "text": [
      "Test Area Under ROC 0.7152050819967559\n",
      "Test Error = 0.33024 \n"
     ]
    }
   ],
   "source": [
    "evaluator = BinaryClassificationEvaluator()\n",
    "print('Test Area Under ROC', evaluator.evaluate(predictions))\n",
    "evaluator = MulticlassClassificationEvaluator(\n",
    "    labelCol=\"label\", predictionCol=\"prediction\", metricName=\"accuracy\")\n",
    "#accuracy is determinrd with the help of evaluators\n",
    "accuracy = evaluator.evaluate(predictions)\n",
    "print(\"Test Error = %g \" % (1.0 - accuracy))"
   ]
  },
  {
   "cell_type": "code",
   "execution_count": 135,
   "metadata": {
    "colab": {
     "base_uri": "https://localhost:8080/",
     "height": 34
    },
    "colab_type": "code",
    "id": "hANwFUzhgG83",
    "outputId": "1fefa67c-a935-4773-a34f-d2813ef992aa"
   },
   "outputs": [
    {
     "name": "stdout",
     "output_type": "stream",
     "text": [
      "Test Area Under ROC 0.6649138377072391\n"
     ]
    }
   ],
   "source": [
    "\n",
    "evaluator2 = MulticlassClassificationEvaluator()\n",
    "print('Test Area Under ROC', evaluator2.evaluate(predictions))#Exam the coefficients"
   ]
  },
  {
   "cell_type": "markdown",
   "metadata": {
    "colab_type": "text",
    "id": "evM5eiJoDHw2"
   },
   "source": [
    "## 5.2 Decision tree"
   ]
  },
  {
   "cell_type": "code",
   "execution_count": 136,
   "metadata": {
    "colab": {
     "base_uri": "https://localhost:8080/",
     "height": 319
    },
    "colab_type": "code",
    "id": "He4mlHb7hBoY",
    "outputId": "c0fcafa8-b980-4a30-c36c-32e2d562b9af"
   },
   "outputs": [
    {
     "name": "stdout",
     "output_type": "stream",
     "text": [
      "+---+----------+-----+---------------+----------+--------------------+\n",
      "|age|       job|label|  rawPrediction|prediction|         probability|\n",
      "+---+----------+-----+---------------+----------+--------------------+\n",
      "| 31|management|  0.0|[1057.0,1453.0]|       1.0|[0.42111553784860...|\n",
      "| 35|management|  0.0|[1057.0,1453.0]|       1.0|[0.42111553784860...|\n",
      "| 40|management|  0.0|  [663.0,409.0]|       0.0|[0.61847014925373...|\n",
      "| 50|management|  0.0|[1057.0,1453.0]|       1.0|[0.42111553784860...|\n",
      "| 52|management|  0.0|  [663.0,409.0]|       0.0|[0.61847014925373...|\n",
      "| 52|management|  0.0|  [663.0,409.0]|       0.0|[0.61847014925373...|\n",
      "| 56|management|  0.0|[1057.0,1453.0]|       1.0|[0.42111553784860...|\n",
      "| 57|management|  0.0|  [663.0,409.0]|       0.0|[0.61847014925373...|\n",
      "| 58|management|  0.0|  [663.0,409.0]|       0.0|[0.61847014925373...|\n",
      "| 46|management|  0.0|  [663.0,409.0]|       0.0|[0.61847014925373...|\n",
      "+---+----------+-----+---------------+----------+--------------------+\n",
      "only showing top 10 rows\n",
      "\n",
      "Test Area Under ROC: 0.5140720850603713\n",
      "accuracy : 0.6424871764266611\n"
     ]
    }
   ],
   "source": [
    "#Decision tree\n",
    "\n",
    "from pyspark.ml.classification import DecisionTreeClassifier \n",
    "\n",
    "dt = DecisionTreeClassifier(featuresCol = 'features', labelCol = 'label', maxDepth = 3)\n",
    "dtModel = dt.fit(train)\n",
    "predictions = dtModel.transform(test)\n",
    "predictions.select('age', 'job', 'label', 'rawPrediction', 'prediction', 'probability').show(10)\n",
    "\n",
    "evaluator = BinaryClassificationEvaluator()\n",
    "print(\"Test Area Under ROC: \" + str(evaluator.evaluate(predictions, {evaluator.metricName: \"areaUnderROC\"})))\n",
    "\n",
    "evaluator = MulticlassClassificationEvaluator()\n",
    "silhouette = evaluator.evaluate(predictions)\n",
    "print(\"accuracy :\", silhouette)\n",
    "\n"
   ]
  },
  {
   "cell_type": "markdown",
   "metadata": {
    "colab_type": "text",
    "id": "CaE-Z_IlDKXF"
   },
   "source": [
    "## 5.3 NaiveBayes"
   ]
  },
  {
   "cell_type": "code",
   "execution_count": 137,
   "metadata": {
    "colab": {
     "base_uri": "https://localhost:8080/",
     "height": 34
    },
    "colab_type": "code",
    "id": "v2XL6I0t7irt",
    "outputId": "5989d28f-d1fb-40f8-d8ac-7849ddc6b3d5"
   },
   "outputs": [
    {
     "name": "stdout",
     "output_type": "stream",
     "text": [
      "Accuracy :  0.6424871764266611\n"
     ]
    }
   ],
   "source": [
    "#NaiveBayes\n",
    "from pyspark.ml.classification import NaiveBayes\n",
    "from pyspark.ml.evaluation import MulticlassClassificationEvaluator\n",
    "from pyspark.ml.feature import VectorAssembler\n",
    "nb = NaiveBayes(labelCol = \"label\",featuresCol = \"Features\",smoothing =1.0,modelType = \"multinomial\")\n",
    "predictions=model.transform(test)\n",
    "evaluator = BinaryClassificationEvaluator()\n",
    "\n",
    "print(\"Accuracy : \",silhouette)"
   ]
  }
 ],
 "metadata": {
  "colab": {
   "collapsed_sections": [],
   "name": "Copy_of_SIT742Assignment2.ipynb",
   "provenance": [],
   "toc_visible": true,
   "version": "0.3.2"
  },
  "kernelspec": {
   "display_name": "Python 3 (ipykernel)",
   "language": "python",
   "name": "python3"
  },
  "language_info": {
   "codemirror_mode": {
    "name": "ipython",
    "version": 3
   },
   "file_extension": ".py",
   "mimetype": "text/x-python",
   "name": "python",
   "nbconvert_exporter": "python",
   "pygments_lexer": "ipython3",
   "version": "3.9.7"
  }
 },
 "nbformat": 4,
 "nbformat_minor": 1
}
